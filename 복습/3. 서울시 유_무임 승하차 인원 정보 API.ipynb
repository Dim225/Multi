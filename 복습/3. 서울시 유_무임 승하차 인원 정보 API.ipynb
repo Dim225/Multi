{
 "cells": [
  {
   "cell_type": "code",
   "execution_count": 1,
   "id": "840c4d9f",
   "metadata": {},
   "outputs": [],
   "source": [
    "import requests\n",
    "from bs4 import BeautifulSoup as bs\n",
    "import pandas as pd"
   ]
  },
  {
   "cell_type": "code",
   "execution_count": 48,
   "id": "39c35858",
   "metadata": {},
   "outputs": [
    {
     "name": "stdout",
     "output_type": "stream",
     "text": [
      "http://openapi.seoul.go.kr:8088/706363516d73696e37324744735257/xml/CardSubwayPayFree/1/200/201501/\n"
     ]
    }
   ],
   "source": [
    "#request_url(urldata, endpage):\n",
    "user_key = \"706363516d73696e37324744735257\"\n",
    "url = \"http://openapi.seoul.go.kr:8088/\"\n",
    "url = url + user_key\n",
    "url = url + \"/xml/CardSubwayPayFree/1/200/201501/\"\n",
    "\n",
    "subpay_html = requests.get(url)\n",
    "\n",
    "if subpay_html.status_code != 200:\n",
    "    exit(\"데이터를 받지 못함\")\n",
    "\n",
    "print(url)"
   ]
  },
  {
   "cell_type": "code",
   "execution_count": 71,
   "id": "23491d24",
   "metadata": {},
   "outputs": [],
   "source": [
    "def request_url(urldata, endpage=5):\n",
    "    user_key = \"706363516d73696e37324744735257\"\n",
    "    url = \"http://openapi.seoul.go.kr:8088/\"\n",
    "    url = url + user_key\n",
    "    url = url + \"/xml/CardSubwayPayFree/1/\" + str(endpage) + \"/\" + str(urldata)\n",
    "    \n",
    "    subpay_html = requests.get(url)\n",
    "    \n",
    "    if subpay_html.status_code != 200:\n",
    "        exit(\"데이터를 받지 못함\")\n",
    "\n",
    "    return subpay_html"
   ]
  },
  {
   "cell_type": "code",
   "execution_count": 73,
   "id": "5c30605c",
   "metadata": {},
   "outputs": [
    {
     "name": "stdout",
     "output_type": "stream",
     "text": [
      "조회월을 입력하세요.(ex:201501):201501\n",
      "<?xml version=\"1.0\" encoding=\"UTF-8\"?>\n",
      "<CardSubwayPayFree>\n",
      "<list_total_count>302</list_total_count>\n",
      "<RESULT>\n",
      "<CODE>INFO-000</CODE>\n",
      "<MESSAGE>정상 처리되었습니다</MESSAGE>\n",
      "</RESULT>\n",
      "<row>\n",
      "<USE_MON>201501</USE_MON>\n",
      "<LINE_NUM>4호선</LINE_NUM>\n",
      "<SUB_STA_NM>삼각지</SUB_STA_NM>\n",
      "<PAY_RIDE_NUM>138257</PAY_RIDE_NUM>\n",
      "<FREE_RIDE_NUM>178987</FREE_RIDE_NUM>\n",
      "<PAY_ALIGHT_NUM>32268</PAY_ALIGHT_NUM>\n",
      "<FREE_ALIGHT_NUM>36116</FREE_ALIGHT_NUM>\n",
      "<WORK_DT>20150206</WORK_DT>\n",
      "</row>\n",
      "<row>\n",
      "<USE_MON>201501</USE_MON>\n",
      "<LINE_NUM>4호선</LINE_NUM>\n",
      "<SUB_STA_NM>신용산</SUB_STA_NM>\n",
      "<PAY_RIDE_NUM>343494</PAY_RIDE_NUM>\n",
      "<FREE_RIDE_NUM>370255</FREE_RIDE_NUM>\n",
      "<PAY_ALIGHT_NUM>53325</PAY_ALIGHT_NUM>\n",
      "<FREE_ALIGHT_NUM>53531</FREE_ALIGHT_NUM>\n",
      "<WORK_DT>20150206</WORK_DT>\n",
      "</row>\n",
      "<row>\n",
      "<USE_MON>201501</USE_MON>\n",
      "<LINE_NUM>4호선</LINE_NUM>\n",
      "<SUB_STA_NM>이촌</SUB_STA_NM>\n",
      "<PAY_RIDE_NUM>257256</PAY_RIDE_NUM>\n",
      "<FREE_RIDE_NUM>283880</FREE_RIDE_NUM>\n",
      "<PAY_ALIGHT_NUM>42962</PAY_ALIGHT_NUM>\n",
      "<FREE_ALIGHT_NUM>45709</FREE_ALIGHT_NUM>\n",
      "<WORK_DT>20150206</WORK_DT>\n",
      "</row>\n",
      "<row>\n",
      "<USE_MON>201501</USE_MON>\n",
      "<LINE_NUM>4호선</LINE_NUM>\n",
      "<SUB_STA_NM>동작</SUB_STA_NM>\n",
      "<PAY_RIDE_NUM>47701</PAY_RIDE_NUM>\n",
      "<FREE_RIDE_NUM>50075</FREE_RIDE_NUM>\n",
      "<PAY_ALIGHT_NUM>17183</PAY_ALIGHT_NUM>\n",
      "<FREE_ALIGHT_NUM>16453</FREE_ALIGHT_NUM>\n",
      "<WORK_DT>20150206</WORK_DT>\n",
      "</row>\n",
      "<row>\n",
      "<USE_MON>201501</USE_MON>\n",
      "<LINE_NUM>4호선</LINE_NUM>\n",
      "<SUB_STA_NM>총신대입구</SUB_STA_NM>\n",
      "<PAY_RIDE_NUM>550301</PAY_RIDE_NUM>\n",
      "<FREE_RIDE_NUM>619606</FREE_RIDE_NUM>\n",
      "<PAY_ALIGHT_NUM>134289</PAY_ALIGHT_NUM>\n",
      "<FREE_ALIGHT_NUM>142082</FREE_ALIGHT_NUM>\n",
      "<WORK_DT>20150206</WORK_DT>\n",
      "</row>\n",
      "</CardSubwayPayFree>\n",
      "\n"
     ]
    }
   ],
   "source": [
    "supdata = input(\"조회월을 입력하세요.(ex:201501):\")\n",
    "\n",
    "subpay_html = request_url(supdata)\n",
    "print(subpay_html.text)\n",
    "soup = bs(subpay_html.text, \"html.parser\")"
   ]
  },
  {
   "cell_type": "code",
   "execution_count": 70,
   "id": "87095756",
   "metadata": {},
   "outputs": [
    {
     "name": "stdout",
     "output_type": "stream",
     "text": [
      "None\n"
     ]
    }
   ],
   "source": []
  },
  {
   "cell_type": "code",
   "execution_count": 63,
   "id": "e5b61b2c",
   "metadata": {},
   "outputs": [
    {
     "data": {
      "text/plain": [
       "[]"
      ]
     },
     "execution_count": 63,
     "metadata": {},
     "output_type": "execute_result"
    }
   ],
   "source": [
    "soup.find_all('row')\n",
    "\n",
    "#row = soup.find(\"fow\")\n",
    "#print(fow.find())"
   ]
  }
 ],
 "metadata": {
  "kernelspec": {
   "display_name": "Python 3 (ipykernel)",
   "language": "python",
   "name": "python3"
  },
  "language_info": {
   "codemirror_mode": {
    "name": "ipython",
    "version": 3
   },
   "file_extension": ".py",
   "mimetype": "text/x-python",
   "name": "python",
   "nbconvert_exporter": "python",
   "pygments_lexer": "ipython3",
   "version": "3.9.7"
  }
 },
 "nbformat": 4,
 "nbformat_minor": 5
}
