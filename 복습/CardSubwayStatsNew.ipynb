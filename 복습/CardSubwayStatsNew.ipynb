{
 "cells": [
  {
   "cell_type": "code",
   "execution_count": null,
   "id": "8ad4194f",
   "metadata": {},
   "outputs": [],
   "source": [
    "import requests\n",
    "from bs4 import BeautifulSoup as bs\n",
    "import pandas as pd\n",
    "\n",
    "def request_url(urldata, endpage=5):            # url 생성 모듈\n",
    "    user_key = \"706363516d73696e37324744735257\"\n",
    "    url = \"http://openapi.seoul.go.kr:8088/\"\n",
    "    url = url + user_key\n",
    "    url = url + \"/xml/CardSubwayStatsNew/1/\" + str(endpage) + \"/\" + str(urldata)\n",
    "\n",
    "    #print(url)\n",
    "    \n",
    "    subway_html = requests.get(url)\n",
    "    \n",
    "    if subway_html.status_code != 200:\n",
    "        exit(\"데이터를 받지 못함\")\n",
    "    return subway_html\n",
    "\n",
    "def swdataframe(schdata):                     # 요청 데이터를 이용해 DataFrame으로 제공\n",
    "    subway_html=request_url(schdata)\n",
    "    soup = bs(subway_html.text, \"html.parser\")\n",
    "    #print(soup)\n",
    "\n",
    "    endpage = soup.find('list_total_count').get_text()\n",
    "\n",
    "    subway_html=request_url(schdata, endpage)\n",
    "    soup = bs(subway_html.text, \"html.parser\")\n",
    "\n",
    "    rows = soup.find_all(\"row\")\n",
    "\n",
    "    sw = []\n",
    "    for row in rows:\n",
    "        use_dt = row.find('use_dt').get_text()\n",
    "        line_num = row.find('line_num').get_text()\n",
    "        sub_sta_nm = row.find('sub_sta_nm').get_text()\n",
    "        ride_pasgr = row.find('ride_pasgr_num').get_text()\n",
    "        alight_pasgr = row.find('alight_pasgr_num').get_text()\n",
    "\n",
    "        sw.append([use_dt, line_num, sub_sta_nm, ride_pasgr, alight_pasgr])\n",
    "\n",
    "    swdf = pd.DataFrame(sw, columns=[\"사용일자\", \"호선명\", \"역명\", \"승차인원\", \"하차인원\"])\n",
    "    return swdf\n",
    "\n",
    "# 현재 위치에서 실행시에만 아래 코드가 실행\n",
    "# 즉 다른 파일에서 호출하면 실행 안됨\n",
    "if __name__ == \"__main__\":\n",
    "    schdata = input(\"조회일을 입력하세요.(ex:20220101):\")\n",
    "    df1 = swdataframe(schdata)\n",
    "    df1.head()"
   ]
  }
 ],
 "metadata": {
  "kernelspec": {
   "display_name": "Python 3 (ipykernel)",
   "language": "python",
   "name": "python3"
  },
  "language_info": {
   "codemirror_mode": {
    "name": "ipython",
    "version": 3
   },
   "file_extension": ".py",
   "mimetype": "text/x-python",
   "name": "python",
   "nbconvert_exporter": "python",
   "pygments_lexer": "ipython3",
   "version": "3.9.7"
  }
 },
 "nbformat": 4,
 "nbformat_minor": 5
}
