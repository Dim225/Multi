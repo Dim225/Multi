{
 "cells": [
  {
   "cell_type": "markdown",
   "id": "d4257bfc",
   "metadata": {},
   "source": [
    "## 오피넷 유가정보를 이용한 분석\n",
    "- 브랜드별 유류비 분석(어느 브랜드가 저렴한 가격으로 공급하고 있는가?)\n",
    "- 셀프/주유원 주유에 따른 분석(셀프 주유소가 일반 주유소보다 가격이 저렴한가?)\n",
    "- 지역별로 유류비 가격 분석"
   ]
  },
  {
   "cell_type": "markdown",
   "id": "16115799",
   "metadata": {},
   "source": [
    "## 1. 데이터 불러오기 및 데이터 정리\n",
    "- 크롤링 진행\n",
    "- 하나의 데이터로 만들기"
   ]
  },
  {
   "cell_type": "code",
   "execution_count": 1,
   "id": "fd687bb3",
   "metadata": {
    "scrolled": true
   },
   "outputs": [
    {
     "data": {
      "text/plain": [
       "['C:/pydata/oildata\\\\지역_위치별(주유소) (1).xls',\n",
       " 'C:/pydata/oildata\\\\지역_위치별(주유소) (10).xls',\n",
       " 'C:/pydata/oildata\\\\지역_위치별(주유소) (11).xls',\n",
       " 'C:/pydata/oildata\\\\지역_위치별(주유소) (12).xls',\n",
       " 'C:/pydata/oildata\\\\지역_위치별(주유소) (13).xls',\n",
       " 'C:/pydata/oildata\\\\지역_위치별(주유소) (14).xls',\n",
       " 'C:/pydata/oildata\\\\지역_위치별(주유소) (15).xls',\n",
       " 'C:/pydata/oildata\\\\지역_위치별(주유소) (16).xls',\n",
       " 'C:/pydata/oildata\\\\지역_위치별(주유소) (17).xls',\n",
       " 'C:/pydata/oildata\\\\지역_위치별(주유소) (18).xls',\n",
       " 'C:/pydata/oildata\\\\지역_위치별(주유소) (19).xls',\n",
       " 'C:/pydata/oildata\\\\지역_위치별(주유소) (2).xls',\n",
       " 'C:/pydata/oildata\\\\지역_위치별(주유소) (20).xls',\n",
       " 'C:/pydata/oildata\\\\지역_위치별(주유소) (21).xls',\n",
       " 'C:/pydata/oildata\\\\지역_위치별(주유소) (22).xls',\n",
       " 'C:/pydata/oildata\\\\지역_위치별(주유소) (23).xls',\n",
       " 'C:/pydata/oildata\\\\지역_위치별(주유소) (24).xls',\n",
       " 'C:/pydata/oildata\\\\지역_위치별(주유소) (25).xls',\n",
       " 'C:/pydata/oildata\\\\지역_위치별(주유소) (26).xls',\n",
       " 'C:/pydata/oildata\\\\지역_위치별(주유소) (27).xls',\n",
       " 'C:/pydata/oildata\\\\지역_위치별(주유소) (28).xls',\n",
       " 'C:/pydata/oildata\\\\지역_위치별(주유소) (29).xls',\n",
       " 'C:/pydata/oildata\\\\지역_위치별(주유소) (3).xls',\n",
       " 'C:/pydata/oildata\\\\지역_위치별(주유소) (30).xls',\n",
       " 'C:/pydata/oildata\\\\지역_위치별(주유소) (31).xls',\n",
       " 'C:/pydata/oildata\\\\지역_위치별(주유소) (32).xls',\n",
       " 'C:/pydata/oildata\\\\지역_위치별(주유소) (33).xls',\n",
       " 'C:/pydata/oildata\\\\지역_위치별(주유소) (34).xls',\n",
       " 'C:/pydata/oildata\\\\지역_위치별(주유소) (35).xls',\n",
       " 'C:/pydata/oildata\\\\지역_위치별(주유소) (36).xls',\n",
       " 'C:/pydata/oildata\\\\지역_위치별(주유소) (37).xls',\n",
       " 'C:/pydata/oildata\\\\지역_위치별(주유소) (38).xls',\n",
       " 'C:/pydata/oildata\\\\지역_위치별(주유소) (39).xls',\n",
       " 'C:/pydata/oildata\\\\지역_위치별(주유소) (4).xls',\n",
       " 'C:/pydata/oildata\\\\지역_위치별(주유소) (40).xls',\n",
       " 'C:/pydata/oildata\\\\지역_위치별(주유소) (41).xls',\n",
       " 'C:/pydata/oildata\\\\지역_위치별(주유소) (42).xls',\n",
       " 'C:/pydata/oildata\\\\지역_위치별(주유소) (43).xls',\n",
       " 'C:/pydata/oildata\\\\지역_위치별(주유소) (44).xls',\n",
       " 'C:/pydata/oildata\\\\지역_위치별(주유소) (45).xls',\n",
       " 'C:/pydata/oildata\\\\지역_위치별(주유소) (46).xls',\n",
       " 'C:/pydata/oildata\\\\지역_위치별(주유소) (47).xls',\n",
       " 'C:/pydata/oildata\\\\지역_위치별(주유소) (48).xls',\n",
       " 'C:/pydata/oildata\\\\지역_위치별(주유소) (49).xls',\n",
       " 'C:/pydata/oildata\\\\지역_위치별(주유소) (5).xls',\n",
       " 'C:/pydata/oildata\\\\지역_위치별(주유소) (50).xls',\n",
       " 'C:/pydata/oildata\\\\지역_위치별(주유소) (6).xls',\n",
       " 'C:/pydata/oildata\\\\지역_위치별(주유소) (7).xls',\n",
       " 'C:/pydata/oildata\\\\지역_위치별(주유소) (8).xls',\n",
       " 'C:/pydata/oildata\\\\지역_위치별(주유소) (9).xls',\n",
       " 'C:/pydata/oildata\\\\지역_위치별(주유소).xls']"
      ]
     },
     "execution_count": 1,
     "metadata": {},
     "output_type": "execute_result"
    }
   ],
   "source": [
    "import pandas as pd\n",
    "from glob import glob\n",
    "\n",
    "locFiles=glob('C:/pydata/oildata/지역_위치별*.xls')\n",
    "locFiles"
   ]
  },
  {
   "cell_type": "code",
   "execution_count": 3,
   "id": "d932c770",
   "metadata": {},
   "outputs": [
    {
     "name": "stdout",
     "output_type": "stream",
     "text": [
      "Collecting xlrd\n",
      "  Downloading xlrd-2.0.1-py2.py3-none-any.whl (96 kB)\n",
      "Installing collected packages: xlrd\n",
      "Successfully installed xlrd-2.0.1\n"
     ]
    }
   ],
   "source": [
    "!pip install xlrd"
   ]
  },
  {
   "cell_type": "code",
   "execution_count": 7,
   "id": "cd29e384",
   "metadata": {},
   "outputs": [
    {
     "name": "stdout",
     "output_type": "stream",
     "text": [
      "<class 'pandas.core.frame.DataFrame'>\n",
      "RangeIndex: 1344 entries, 0 to 1343\n",
      "Data columns (total 10 columns):\n",
      " #   Column  Non-Null Count  Dtype \n",
      "---  ------  --------------  ----- \n",
      " 0   지역      1344 non-null   object\n",
      " 1   상호      1344 non-null   object\n",
      " 2   주소      1344 non-null   object\n",
      " 3   상표      1344 non-null   object\n",
      " 4   전화번호    1344 non-null   object\n",
      " 5   셀프여부    1344 non-null   object\n",
      " 6   고급휘발유   1344 non-null   object\n",
      " 7   휘발유     1344 non-null   object\n",
      " 8   경유      1344 non-null   object\n",
      " 9   실내등유    1344 non-null   object\n",
      "dtypes: object(10)\n",
      "memory usage: 105.1+ KB\n",
      "None\n"
     ]
    }
   ],
   "source": [
    "# 엑셀 데이터를 일괄 tmp_df에 넣어주고 이후 pd.concat()를 이용해 열 이름을 기준으로 행추가\n",
    "tmp_df = []\n",
    "for file in locFiles:\n",
    "    tmp = pd.read_excel(file, header=2)   # 위쪽 불필요한 데이터를 팬 3번째 데이터부터 가져오기\n",
    "    tmp_df.append(tmp)\n",
    "\n",
    "df = pd.concat(tmp_df, ignore_index=True) # 리스트에 저장한 데이터 열 추가(index 재설정 옵션)\n",
    "\n",
    "print(df.info())"
   ]
  },
  {
   "cell_type": "code",
   "execution_count": 8,
   "id": "c612cc44",
   "metadata": {},
   "outputs": [
    {
     "data": {
      "text/html": [
       "<div>\n",
       "<style scoped>\n",
       "    .dataframe tbody tr th:only-of-type {\n",
       "        vertical-align: middle;\n",
       "    }\n",
       "\n",
       "    .dataframe tbody tr th {\n",
       "        vertical-align: top;\n",
       "    }\n",
       "\n",
       "    .dataframe thead th {\n",
       "        text-align: right;\n",
       "    }\n",
       "</style>\n",
       "<table border=\"1\" class=\"dataframe\">\n",
       "  <thead>\n",
       "    <tr style=\"text-align: right;\">\n",
       "      <th></th>\n",
       "      <th>지역</th>\n",
       "      <th>상호</th>\n",
       "      <th>주소</th>\n",
       "      <th>상표</th>\n",
       "      <th>전화번호</th>\n",
       "      <th>셀프여부</th>\n",
       "      <th>고급휘발유</th>\n",
       "      <th>휘발유</th>\n",
       "      <th>경유</th>\n",
       "      <th>실내등유</th>\n",
       "    </tr>\n",
       "  </thead>\n",
       "  <tbody>\n",
       "    <tr>\n",
       "      <th>0</th>\n",
       "      <td>서울특별시</td>\n",
       "      <td>재건에너지 재정제2주유소 고속셀프지점</td>\n",
       "      <td>서울특별시 강동구  천호대로 1246 (둔촌제2동)</td>\n",
       "      <td>현대오일뱅크</td>\n",
       "      <td>02-487-2030</td>\n",
       "      <td>Y</td>\n",
       "      <td>-</td>\n",
       "      <td>1979</td>\n",
       "      <td>1913</td>\n",
       "      <td>-</td>\n",
       "    </tr>\n",
       "    <tr>\n",
       "      <th>1</th>\n",
       "      <td>서울특별시</td>\n",
       "      <td>구천면주유소</td>\n",
       "      <td>서울 강동구 구천면로 357 (암사동)</td>\n",
       "      <td>현대오일뱅크</td>\n",
       "      <td>02-441-0536</td>\n",
       "      <td>N</td>\n",
       "      <td>-</td>\n",
       "      <td>1993</td>\n",
       "      <td>1927</td>\n",
       "      <td>-</td>\n",
       "    </tr>\n",
       "    <tr>\n",
       "      <th>2</th>\n",
       "      <td>서울특별시</td>\n",
       "      <td>지에스칼텍스㈜ 신월주유소</td>\n",
       "      <td>서울 강동구 양재대로 1323 (성내동)</td>\n",
       "      <td>GS칼텍스</td>\n",
       "      <td>02-475-2600</td>\n",
       "      <td>N</td>\n",
       "      <td>2165</td>\n",
       "      <td>2015</td>\n",
       "      <td>1925</td>\n",
       "      <td>1480</td>\n",
       "    </tr>\n",
       "  </tbody>\n",
       "</table>\n",
       "</div>"
      ],
      "text/plain": [
       "      지역                    상호                            주소      상표  \\\n",
       "0  서울특별시  재건에너지 재정제2주유소 고속셀프지점  서울특별시 강동구  천호대로 1246 (둔촌제2동)  현대오일뱅크   \n",
       "1  서울특별시                구천면주유소         서울 강동구 구천면로 357 (암사동)  현대오일뱅크   \n",
       "2  서울특별시         지에스칼텍스㈜ 신월주유소        서울 강동구 양재대로 1323 (성내동)   GS칼텍스   \n",
       "\n",
       "          전화번호 셀프여부 고급휘발유   휘발유    경유  실내등유  \n",
       "0  02-487-2030    Y     -  1979  1913     -  \n",
       "1  02-441-0536    N     -  1993  1927     -  \n",
       "2  02-475-2600    N  2165  2015  1925  1480  "
      ]
     },
     "metadata": {},
     "output_type": "display_data"
    },
    {
     "data": {
      "text/html": [
       "<div>\n",
       "<style scoped>\n",
       "    .dataframe tbody tr th:only-of-type {\n",
       "        vertical-align: middle;\n",
       "    }\n",
       "\n",
       "    .dataframe tbody tr th {\n",
       "        vertical-align: top;\n",
       "    }\n",
       "\n",
       "    .dataframe thead th {\n",
       "        text-align: right;\n",
       "    }\n",
       "</style>\n",
       "<table border=\"1\" class=\"dataframe\">\n",
       "  <thead>\n",
       "    <tr style=\"text-align: right;\">\n",
       "      <th></th>\n",
       "      <th>지역</th>\n",
       "      <th>상호</th>\n",
       "      <th>주소</th>\n",
       "      <th>상표</th>\n",
       "      <th>전화번호</th>\n",
       "      <th>셀프여부</th>\n",
       "      <th>고급휘발유</th>\n",
       "      <th>휘발유</th>\n",
       "      <th>경유</th>\n",
       "      <th>실내등유</th>\n",
       "    </tr>\n",
       "  </thead>\n",
       "  <tbody>\n",
       "    <tr>\n",
       "      <th>1341</th>\n",
       "      <td>서울특별시</td>\n",
       "      <td>삼성주유소</td>\n",
       "      <td>서울 강남구 삼성로 521 (삼성동)</td>\n",
       "      <td>SK에너지</td>\n",
       "      <td>02-538-0809</td>\n",
       "      <td>N</td>\n",
       "      <td>-</td>\n",
       "      <td>-</td>\n",
       "      <td>-</td>\n",
       "      <td>-</td>\n",
       "    </tr>\n",
       "    <tr>\n",
       "      <th>1342</th>\n",
       "      <td>서울특별시</td>\n",
       "      <td>동우주유소</td>\n",
       "      <td>서울특별시 강남구  봉은사로 311 (논현동)</td>\n",
       "      <td>SK에너지</td>\n",
       "      <td>02-542-6726</td>\n",
       "      <td>N</td>\n",
       "      <td>-</td>\n",
       "      <td>-</td>\n",
       "      <td>-</td>\n",
       "      <td>-</td>\n",
       "    </tr>\n",
       "    <tr>\n",
       "      <th>1343</th>\n",
       "      <td>서울특별시</td>\n",
       "      <td>경원주유소</td>\n",
       "      <td>서울 강남구 도산대로 428 (청담동)</td>\n",
       "      <td>S-OIL</td>\n",
       "      <td>02-517-1957</td>\n",
       "      <td>N</td>\n",
       "      <td>-</td>\n",
       "      <td>-</td>\n",
       "      <td>-</td>\n",
       "      <td>-</td>\n",
       "    </tr>\n",
       "  </tbody>\n",
       "</table>\n",
       "</div>"
      ],
      "text/plain": [
       "         지역     상호                         주소     상표         전화번호 셀프여부 고급휘발유  \\\n",
       "1341  서울특별시  삼성주유소       서울 강남구 삼성로 521 (삼성동)  SK에너지  02-538-0809    N     -   \n",
       "1342  서울특별시  동우주유소  서울특별시 강남구  봉은사로 311 (논현동)  SK에너지  02-542-6726    N     -   \n",
       "1343  서울특별시  경원주유소      서울 강남구 도산대로 428 (청담동)  S-OIL  02-517-1957    N     -   \n",
       "\n",
       "     휘발유 경유 실내등유  \n",
       "1341   -  -    -  \n",
       "1342   -  -    -  \n",
       "1343   -  -    -  "
      ]
     },
     "metadata": {},
     "output_type": "display_data"
    }
   ],
   "source": [
    "display(df.head(3))\n",
    "display(df.tail(3))"
   ]
  },
  {
   "cell_type": "code",
   "execution_count": 9,
   "id": "21cc49f9",
   "metadata": {},
   "outputs": [
    {
     "data": {
      "text/plain": [
       "Index(['지역', '상호', '주소', '상표', '전화번호', '셀프여부', '고급휘발유', '휘발유', '경유', '실내등유'], dtype='object')"
      ]
     },
     "execution_count": 9,
     "metadata": {},
     "output_type": "execute_result"
    }
   ],
   "source": [
    "df.columns"
   ]
  },
  {
   "cell_type": "code",
   "execution_count": 10,
   "id": "b721cbc8",
   "metadata": {},
   "outputs": [
    {
     "data": {
      "text/html": [
       "<div>\n",
       "<style scoped>\n",
       "    .dataframe tbody tr th:only-of-type {\n",
       "        vertical-align: middle;\n",
       "    }\n",
       "\n",
       "    .dataframe tbody tr th {\n",
       "        vertical-align: top;\n",
       "    }\n",
       "\n",
       "    .dataframe thead th {\n",
       "        text-align: right;\n",
       "    }\n",
       "</style>\n",
       "<table border=\"1\" class=\"dataframe\">\n",
       "  <thead>\n",
       "    <tr style=\"text-align: right;\">\n",
       "      <th></th>\n",
       "      <th>시도</th>\n",
       "      <th>상호</th>\n",
       "      <th>주소</th>\n",
       "      <th>가격</th>\n",
       "      <th>셀프</th>\n",
       "      <th>상표</th>\n",
       "    </tr>\n",
       "  </thead>\n",
       "  <tbody>\n",
       "    <tr>\n",
       "      <th>0</th>\n",
       "      <td>서울특별시</td>\n",
       "      <td>재건에너지 재정제2주유소 고속셀프지점</td>\n",
       "      <td>서울특별시 강동구  천호대로 1246 (둔촌제2동)</td>\n",
       "      <td>1979</td>\n",
       "      <td>Y</td>\n",
       "      <td>현대오일뱅크</td>\n",
       "    </tr>\n",
       "    <tr>\n",
       "      <th>1</th>\n",
       "      <td>서울특별시</td>\n",
       "      <td>구천면주유소</td>\n",
       "      <td>서울 강동구 구천면로 357 (암사동)</td>\n",
       "      <td>1993</td>\n",
       "      <td>N</td>\n",
       "      <td>현대오일뱅크</td>\n",
       "    </tr>\n",
       "    <tr>\n",
       "      <th>2</th>\n",
       "      <td>서울특별시</td>\n",
       "      <td>지에스칼텍스㈜ 신월주유소</td>\n",
       "      <td>서울 강동구 양재대로 1323 (성내동)</td>\n",
       "      <td>2015</td>\n",
       "      <td>N</td>\n",
       "      <td>GS칼텍스</td>\n",
       "    </tr>\n",
       "  </tbody>\n",
       "</table>\n",
       "</div>"
      ],
      "text/plain": [
       "      시도                    상호                            주소    가격 셀프      상표\n",
       "0  서울특별시  재건에너지 재정제2주유소 고속셀프지점  서울특별시 강동구  천호대로 1246 (둔촌제2동)  1979  Y  현대오일뱅크\n",
       "1  서울특별시                구천면주유소         서울 강동구 구천면로 357 (암사동)  1993  N  현대오일뱅크\n",
       "2  서울특별시         지에스칼텍스㈜ 신월주유소        서울 강동구 양재대로 1323 (성내동)  2015  N   GS칼텍스"
      ]
     },
     "execution_count": 10,
     "metadata": {},
     "output_type": "execute_result"
    }
   ],
   "source": [
    "df_oil = df[['지역', '상호', '주소', '휘발유', '셀프여부', '상표' ]]  # 데이터 가져오기\n",
    "df_oil.columns=['시도', '상호', '주소', '가격', '셀프', '상표']       # 이름 변경하기\n",
    "df_oil.head(3)\n",
    "\n",
    "# df_oil = df.iloc[:, [0, 1, 2, 6, 5, 3]]\n",
    "# df_oil.columns=['시도', '상호', '주소', '가격', '셀프', '상표']"
   ]
  },
  {
   "cell_type": "code",
   "execution_count": 15,
   "id": "d0ef53e6",
   "metadata": {},
   "outputs": [
    {
     "name": "stderr",
     "output_type": "stream",
     "text": [
      "C:\\Users\\user01\\AppData\\Local\\Temp/ipykernel_11420/4183987034.py:4: SettingWithCopyWarning: \n",
      "A value is trying to be set on a copy of a slice from a DataFrame.\n",
      "Try using .loc[row_indexer,col_indexer] = value instead\n",
      "\n",
      "See the caveats in the documentation: https://pandas.pydata.org/pandas-docs/stable/user_guide/indexing.html#returning-a-view-versus-a-copy\n",
      "  df_oil['시군구']= [ addr.split()[1] for addr in df_oil['주소']]\n"
     ]
    },
    {
     "data": {
      "text/plain": [
       "array(['강동구', '동대문구', '동작구', '마포구', '서대문구', '서초구', '성동구', '성북구', '송파구',\n",
       "       '양천구', '영등포구', '강북구', '용산구', '은평구', '종로구', '중구', '중랑구', '강서구',\n",
       "       '금정구', '기장군', '남구', '동구', '동래구', '부산진구', '북구', '사상구', '사하구', '서구',\n",
       "       '수영구', '연제구', '영도구', '관악구', '해운대구', '광산구', '대덕구', '유성구', '광진구',\n",
       "       '광역시', '구로구', '금천구', '노원구', '도봉구', '강남구'], dtype=object)"
      ]
     },
     "execution_count": 15,
     "metadata": {},
     "output_type": "execute_result"
    }
   ],
   "source": [
    "## 주소를 이용해 시군구 추가\n",
    "# 스페이스바를 기준으로 문자열을 자르고 결과에서 1번째 데이터 가져와 리트에 추가\n",
    "\n",
    "df_oil['시군구']= [ addr.split()[1] for addr in df_oil['주소']]\n",
    "df_oil['시군구'].unique()"
   ]
  },
  {
   "cell_type": "code",
   "execution_count": 20,
   "id": "bf3d0245",
   "metadata": {},
   "outputs": [
    {
     "data": {
      "text/html": [
       "<div>\n",
       "<style scoped>\n",
       "    .dataframe tbody tr th:only-of-type {\n",
       "        vertical-align: middle;\n",
       "    }\n",
       "\n",
       "    .dataframe tbody tr th {\n",
       "        vertical-align: top;\n",
       "    }\n",
       "\n",
       "    .dataframe thead th {\n",
       "        text-align: right;\n",
       "    }\n",
       "</style>\n",
       "<table border=\"1\" class=\"dataframe\">\n",
       "  <thead>\n",
       "    <tr style=\"text-align: right;\">\n",
       "      <th></th>\n",
       "      <th>시도</th>\n",
       "      <th>상호</th>\n",
       "      <th>주소</th>\n",
       "      <th>가격</th>\n",
       "      <th>셀프</th>\n",
       "      <th>상표</th>\n",
       "      <th>시군구</th>\n",
       "    </tr>\n",
       "  </thead>\n",
       "  <tbody>\n",
       "    <tr>\n",
       "      <th>1002</th>\n",
       "      <td>대전광역시</td>\n",
       "      <td>일등주유소</td>\n",
       "      <td>대전 대덕구 신탄진로 636 (평촌동)</td>\n",
       "      <td>1933</td>\n",
       "      <td>N</td>\n",
       "      <td>자가상표</td>\n",
       "      <td>대덕구</td>\n",
       "    </tr>\n",
       "    <tr>\n",
       "      <th>1003</th>\n",
       "      <td>대전광역시</td>\n",
       "      <td>㈜에스에이치에너지 영풍주유소</td>\n",
       "      <td>대전 대덕구 신탄진로 584 (상서동)</td>\n",
       "      <td>1933</td>\n",
       "      <td>Y</td>\n",
       "      <td>현대오일뱅크</td>\n",
       "      <td>대덕구</td>\n",
       "    </tr>\n",
       "    <tr>\n",
       "      <th>1004</th>\n",
       "      <td>대전광역시</td>\n",
       "      <td>동대전셀프주유소</td>\n",
       "      <td>대전 대덕구 신탄진로 60 (연축동)</td>\n",
       "      <td>1935</td>\n",
       "      <td>Y</td>\n",
       "      <td>현대오일뱅크</td>\n",
       "      <td>대덕구</td>\n",
       "    </tr>\n",
       "    <tr>\n",
       "      <th>1005</th>\n",
       "      <td>대전광역시</td>\n",
       "      <td>쌍용주유소</td>\n",
       "      <td>대전 대덕구 신탄진로 83 (연축동)</td>\n",
       "      <td>1935</td>\n",
       "      <td>Y</td>\n",
       "      <td>알뜰주유소</td>\n",
       "      <td>대덕구</td>\n",
       "    </tr>\n",
       "    <tr>\n",
       "      <th>1006</th>\n",
       "      <td>대전광역시</td>\n",
       "      <td>신탄진(상)주유소/충전소</td>\n",
       "      <td>대전 대덕구 산업단지로 27</td>\n",
       "      <td>1938</td>\n",
       "      <td>Y</td>\n",
       "      <td>알뜰(ex)</td>\n",
       "      <td>대덕구</td>\n",
       "    </tr>\n",
       "    <tr>\n",
       "      <th>...</th>\n",
       "      <td>...</td>\n",
       "      <td>...</td>\n",
       "      <td>...</td>\n",
       "      <td>...</td>\n",
       "      <td>...</td>\n",
       "      <td>...</td>\n",
       "      <td>...</td>\n",
       "    </tr>\n",
       "    <tr>\n",
       "      <th>1240</th>\n",
       "      <td>대전광역시</td>\n",
       "      <td>삼육주유소</td>\n",
       "      <td>대전 중구 대전천서로 757 (중촌동)</td>\n",
       "      <td>2035</td>\n",
       "      <td>Y</td>\n",
       "      <td>SK에너지</td>\n",
       "      <td>중구</td>\n",
       "    </tr>\n",
       "    <tr>\n",
       "      <th>1241</th>\n",
       "      <td>대전광역시</td>\n",
       "      <td>안영IC주유소</td>\n",
       "      <td>대전 중구 대둔산로 188 (안영동)</td>\n",
       "      <td>2065</td>\n",
       "      <td>Y</td>\n",
       "      <td>GS칼텍스</td>\n",
       "      <td>중구</td>\n",
       "    </tr>\n",
       "    <tr>\n",
       "      <th>1242</th>\n",
       "      <td>대전광역시</td>\n",
       "      <td>(주)이선 오월드주유소</td>\n",
       "      <td>대전 중구 대둔산로 359 (사정동)</td>\n",
       "      <td>2069</td>\n",
       "      <td>Y</td>\n",
       "      <td>S-OIL</td>\n",
       "      <td>중구</td>\n",
       "    </tr>\n",
       "    <tr>\n",
       "      <th>1243</th>\n",
       "      <td>대전광역시</td>\n",
       "      <td>영광주유소</td>\n",
       "      <td>대전 중구 문화로 95 (유천동)</td>\n",
       "      <td>2119</td>\n",
       "      <td>N</td>\n",
       "      <td>SK에너지</td>\n",
       "      <td>중구</td>\n",
       "    </tr>\n",
       "    <tr>\n",
       "      <th>1244</th>\n",
       "      <td>대전광역시</td>\n",
       "      <td>믿음주유소</td>\n",
       "      <td>대전 중구 대종로 249 (석교동)</td>\n",
       "      <td>-</td>\n",
       "      <td>Y</td>\n",
       "      <td>S-OIL</td>\n",
       "      <td>중구</td>\n",
       "    </tr>\n",
       "  </tbody>\n",
       "</table>\n",
       "<p>227 rows × 7 columns</p>\n",
       "</div>"
      ],
      "text/plain": [
       "         시도               상호                     주소    가격 셀프      상표  시군구\n",
       "1002  대전광역시            일등주유소  대전 대덕구 신탄진로 636 (평촌동)  1933  N    자가상표  대덕구\n",
       "1003  대전광역시  ㈜에스에이치에너지 영풍주유소  대전 대덕구 신탄진로 584 (상서동)  1933  Y  현대오일뱅크  대덕구\n",
       "1004  대전광역시         동대전셀프주유소   대전 대덕구 신탄진로 60 (연축동)  1935  Y  현대오일뱅크  대덕구\n",
       "1005  대전광역시            쌍용주유소   대전 대덕구 신탄진로 83 (연축동)  1935  Y   알뜰주유소  대덕구\n",
       "1006  대전광역시    신탄진(상)주유소/충전소        대전 대덕구 산업단지로 27  1938  Y  알뜰(ex)  대덕구\n",
       "...     ...              ...                    ...   ... ..     ...  ...\n",
       "1240  대전광역시            삼육주유소  대전 중구 대전천서로 757 (중촌동)  2035  Y   SK에너지   중구\n",
       "1241  대전광역시          안영IC주유소   대전 중구 대둔산로 188 (안영동)  2065  Y   GS칼텍스   중구\n",
       "1242  대전광역시     (주)이선 오월드주유소   대전 중구 대둔산로 359 (사정동)  2069  Y   S-OIL   중구\n",
       "1243  대전광역시            영광주유소     대전 중구 문화로 95 (유천동)  2119  N   SK에너지   중구\n",
       "1244  대전광역시            믿음주유소    대전 중구 대종로 249 (석교동)     -  Y   S-OIL   중구\n",
       "\n",
       "[227 rows x 7 columns]"
      ]
     },
     "execution_count": 20,
     "metadata": {},
     "output_type": "execute_result"
    }
   ],
   "source": [
    "df_oil[df_oil[\"시도\"].str.contains(\"대전\")]   # contains()에 입력한 데이터가 포함된 자료 검색 "
   ]
  },
  {
   "cell_type": "code",
   "execution_count": 23,
   "id": "77e4eacc",
   "metadata": {},
   "outputs": [],
   "source": [
    "import warnings\n",
    "warnings.filterwarnings(action='ignore')\n",
    "# warnings.filterwarnings(action='default')  # 경고메세지 활성화"
   ]
  },
  {
   "cell_type": "code",
   "execution_count": 21,
   "id": "fa1faa47",
   "metadata": {},
   "outputs": [
    {
     "data": {
      "text/html": [
       "<div>\n",
       "<style scoped>\n",
       "    .dataframe tbody tr th:only-of-type {\n",
       "        vertical-align: middle;\n",
       "    }\n",
       "\n",
       "    .dataframe tbody tr th {\n",
       "        vertical-align: top;\n",
       "    }\n",
       "\n",
       "    .dataframe thead th {\n",
       "        text-align: right;\n",
       "    }\n",
       "</style>\n",
       "<table border=\"1\" class=\"dataframe\">\n",
       "  <thead>\n",
       "    <tr style=\"text-align: right;\">\n",
       "      <th></th>\n",
       "      <th>시도</th>\n",
       "      <th>상호</th>\n",
       "      <th>주소</th>\n",
       "      <th>가격</th>\n",
       "      <th>셀프</th>\n",
       "      <th>상표</th>\n",
       "      <th>시군구</th>\n",
       "    </tr>\n",
       "  </thead>\n",
       "  <tbody>\n",
       "    <tr>\n",
       "      <th>1212</th>\n",
       "      <td>대전광역시</td>\n",
       "      <td>도서관주유소</td>\n",
       "      <td>대전 광역시 중구 보문산로 353</td>\n",
       "      <td>1962</td>\n",
       "      <td>Y</td>\n",
       "      <td>현대오일뱅크</td>\n",
       "      <td>광역시</td>\n",
       "    </tr>\n",
       "  </tbody>\n",
       "</table>\n",
       "</div>"
      ],
      "text/plain": [
       "         시도      상호                  주소    가격 셀프      상표  시군구\n",
       "1212  대전광역시  도서관주유소  대전 광역시 중구 보문산로 353  1962  Y  현대오일뱅크  광역시"
      ]
     },
     "execution_count": 21,
     "metadata": {},
     "output_type": "execute_result"
    }
   ],
   "source": [
    "# 시군구 값이 '광역시'인 데이터 확인\n",
    "df_oil[df_oil['시군구']=='광역시']"
   ]
  },
  {
   "cell_type": "code",
   "execution_count": 24,
   "id": "3a65e3da",
   "metadata": {},
   "outputs": [
    {
     "data": {
      "text/plain": [
       "array(['강동구', '동대문구', '동작구', '마포구', '서대문구', '서초구', '성동구', '성북구', '송파구',\n",
       "       '양천구', '영등포구', '강북구', '용산구', '은평구', '종로구', '중구', '중랑구', '강서구',\n",
       "       '금정구', '기장군', '남구', '동구', '동래구', '부산진구', '북구', '사상구', '사하구', '서구',\n",
       "       '수영구', '연제구', '영도구', '관악구', '해운대구', '광산구', '대덕구', '유성구', '광진구',\n",
       "       '구로구', '금천구', '노원구', '도봉구', '강남구'], dtype=object)"
      ]
     },
     "execution_count": 24,
     "metadata": {},
     "output_type": "execute_result"
    }
   ],
   "source": [
    "# 시군구 값이 '광역시'인 데이터를 중구로 변경\n",
    "df_oil.loc[df_oil['시군구']=='광역시', '시군구'] ='중구'\n",
    "df_oil['시군구'].unique()"
   ]
  },
  {
   "cell_type": "code",
   "execution_count": 27,
   "id": "a524647f",
   "metadata": {
    "scrolled": false
   },
   "outputs": [
    {
     "data": {
      "text/html": [
       "<div>\n",
       "<style scoped>\n",
       "    .dataframe tbody tr th:only-of-type {\n",
       "        vertical-align: middle;\n",
       "    }\n",
       "\n",
       "    .dataframe tbody tr th {\n",
       "        vertical-align: top;\n",
       "    }\n",
       "\n",
       "    .dataframe thead th {\n",
       "        text-align: right;\n",
       "    }\n",
       "</style>\n",
       "<table border=\"1\" class=\"dataframe\">\n",
       "  <thead>\n",
       "    <tr style=\"text-align: right;\">\n",
       "      <th></th>\n",
       "      <th>시도</th>\n",
       "      <th>상호</th>\n",
       "      <th>주소</th>\n",
       "      <th>가격</th>\n",
       "      <th>셀프</th>\n",
       "      <th>상표</th>\n",
       "      <th>시군구</th>\n",
       "    </tr>\n",
       "  </thead>\n",
       "  <tbody>\n",
       "  </tbody>\n",
       "</table>\n",
       "</div>"
      ],
      "text/plain": [
       "Empty DataFrame\n",
       "Columns: [시도, 상호, 주소, 가격, 셀프, 상표, 시군구]\n",
       "Index: []"
      ]
     },
     "metadata": {},
     "output_type": "display_data"
    }
   ],
   "source": [
    "# 가격이 \"-\" 로 입력된 데이터 제거\n",
    "df_oil=df_oil[df_oil['가격'] != \"-\"]\n",
    "\n",
    "display(df_oil[df_oil['가격'] == \"-\"] ) # - 가 포함된 데이터가 있는지 확인"
   ]
  },
  {
   "cell_type": "code",
   "execution_count": 29,
   "id": "8838df9e",
   "metadata": {},
   "outputs": [
    {
     "data": {
      "text/plain": [
       "시도     object\n",
       "상호     object\n",
       "주소     object\n",
       "가격     object\n",
       "셀프     object\n",
       "상표     object\n",
       "시군구    object\n",
       "dtype: object"
      ]
     },
     "execution_count": 29,
     "metadata": {},
     "output_type": "execute_result"
    }
   ],
   "source": [
    "## 데이터 타입 확인\n",
    "df_oil.dtypes"
   ]
  },
  {
   "cell_type": "code",
   "execution_count": 30,
   "id": "71f7416a",
   "metadata": {},
   "outputs": [
    {
     "name": "stdout",
     "output_type": "stream",
     "text": [
      "시도     object\n",
      "상호     object\n",
      "주소     object\n",
      "가격      int64\n",
      "셀프     object\n",
      "상표     object\n",
      "시군구    object\n",
      "dtype: object\n"
     ]
    }
   ],
   "source": [
    "# 가격 필드의 데이터 타입을 int로 변경(for문)\n",
    "df_oil['가격'] = [ int(val)  for val in df_oil['가격']]\n",
    "\n",
    "# df_oil=df_oil['가격'].astype({'가격':int})  # 함수사용\n",
    "\n",
    "print(df_oil.dtypes)"
   ]
  },
  {
   "cell_type": "code",
   "execution_count": 31,
   "id": "6ad668f0",
   "metadata": {},
   "outputs": [
    {
     "data": {
      "text/plain": [
       "시도     0\n",
       "상호     0\n",
       "주소     0\n",
       "가격     0\n",
       "셀프     0\n",
       "상표     0\n",
       "시군구    0\n",
       "dtype: int64"
      ]
     },
     "execution_count": 31,
     "metadata": {},
     "output_type": "execute_result"
    }
   ],
   "source": [
    "## 데이터에 NaN 값이 있는지 확인\n",
    "df_oil.isna().sum()"
   ]
  },
  {
   "cell_type": "markdown",
   "id": "cf6fa022",
   "metadata": {},
   "source": [
    "## 2. 데이터 분석하기\n",
    "- 셀프 주유소가 일반 주유소보다 저렴한지 확인\n",
    "- boxplot으로 확인"
   ]
  },
  {
   "cell_type": "code",
   "execution_count": 39,
   "id": "37660f98",
   "metadata": {},
   "outputs": [],
   "source": [
    "import matplotlib.pyplot as plt\n",
    "import seaborn as sns\n",
    "%matplotlib inline\n",
    "\n",
    "import platform\n",
    "from matplotlib import font_manager, rc\n",
    "\n",
    "if platform.system() == \"Darwin\":\n",
    "    rc('font', family='AppleGothic')\n",
    "    \n",
    "elif platform.system() == \"Windows\":\n",
    "    fontname=font_manager.FontProperties(fname=\"C:/Windows/Fonts/gulim.ttc\").get_name()\n",
    "    rc('font', family = fontname)\n",
    "    \n",
    "else:\n",
    "    print('시스템 포트 설정 오류~~')"
   ]
  },
  {
   "cell_type": "code",
   "execution_count": 42,
   "id": "8a864411",
   "metadata": {},
   "outputs": [
    {
     "data": {
      "image/png": "[encoded data removed]",
      "text/plain": [
       "<Figure size 864x576 with 1 Axes>"
      ]
     },
     "metadata": {
      "needs_background": "light"
     },
     "output_type": "display_data"
    }
   ],
   "source": [
    "# 가격에 대한 셀프여부에 따라 boxplot\n",
    "# 보는 방법 참조: https://codedragon.tistory.com/7012\n",
    "\n",
    "df_oil.boxplot(column='가격', by='셀프', figsize=(12, 8))\n",
    "plt.show()"
   ]
  },
  {
   "cell_type": "code",
   "execution_count": 44,
   "id": "5b4144cf",
   "metadata": {},
   "outputs": [
    {
     "data": {
      "image/png": "[encoded data removed]",
      "text/plain": [
       "<Figure size 864x576 with 1 Axes>"
      ]
     },
     "metadata": {
      "needs_background": "light"
     },
     "output_type": "display_data"
    }
   ],
   "source": [
    "# 시도별/seaborn.boxplot 사용\n",
    "plt.figure(figsize=(12, 8))\n",
    "sns.boxplot(x='시도', y='가격', hue='셀프', data=df_oil, palette='Set3')\n",
    "plt.show()"
   ]
  },
  {
   "cell_type": "code",
   "execution_count": 46,
   "id": "aa57f64a",
   "metadata": {},
   "outputs": [
    {
     "data": {
      "image/png": "[encoded data removed]",
      "text/plain": [
       "<Figure size 864x576 with 1 Axes>"
      ]
     },
     "metadata": {
      "needs_background": "light"
     },
     "output_type": "display_data"
    }
   ],
   "source": [
    "# 위 차트를 기준하여 광주광역시의 브랜드별 가격 출력\n",
    "tmpDf=df_oil[df_oil['시도']=='광주광역시']\n",
    "\n",
    "plt.figure(figsize=(12, 8))\n",
    "sns.boxplot(x='상표', y='가격', hue='셀프', data=tmpDf, palette='Set3')\n",
    "plt.show()"
   ]
  },
  {
   "cell_type": "code",
   "execution_count": 47,
   "id": "c1baa318",
   "metadata": {},
   "outputs": [
    {
     "data": {
      "image/png": "[encoded data removed]",
      "text/plain": [
       "<Figure size 864x576 with 1 Axes>"
      ]
     },
     "metadata": {
      "needs_background": "light"
     },
     "output_type": "display_data"
    }
   ],
   "source": [
    "# 시군구에 따른 셀프/일반 휘발유 값 확인\n",
    "tmpDf=df_oil[df_oil['시도']=='광주광역시']\n",
    "\n",
    "plt.figure(figsize=(12, 8))\n",
    "sns.boxplot(x='시군구', y='가격', hue='셀프', data=tmpDf, palette='Set3')\n",
    "plt.show()"
   ]
  },
  {
   "cell_type": "code",
   "execution_count": 48,
   "id": "26413a13",
   "metadata": {},
   "outputs": [
    {
     "data": {
      "image/png": "[encoded data removed]",
      "text/plain": [
       "<Figure size 864x576 with 1 Axes>"
      ]
     },
     "metadata": {
      "needs_background": "light"
     },
     "output_type": "display_data"
    }
   ],
   "source": [
    "# 시군구에서 상표에 따른 가격\n",
    "tmpDf=df_oil[df_oil['시도']=='광주광역시']\n",
    "\n",
    "plt.figure(figsize=(12, 8))\n",
    "sns.boxplot(x='시군구', y='가격', hue='상표', data=tmpDf, palette='Set3')\n",
    "plt.show()"
   ]
  },
  {
   "cell_type": "code",
   "execution_count": 50,
   "id": "21954e5e",
   "metadata": {},
   "outputs": [
    {
     "data": {
      "image/png": "[encoded data removed]",
      "text/plain": [
       "<Figure size 864x576 with 1 Axes>"
      ]
     },
     "metadata": {
      "needs_background": "light"
     },
     "output_type": "display_data"
    }
   ],
   "source": [
    "# 시군구에서 상표에 따른 가격\n",
    "tmpDf=df_oil[df_oil['시도']=='광주광역시']\n",
    "\n",
    "plt.figure(figsize=(12, 8))\n",
    "sns.boxplot(x='상표', y='가격', data=tmpDf, palette='Set3')\n",
    "sns.swarmplot(x='상표', y='가격', data=tmpDf, color='.6')\n",
    "plt.show()"
   ]
  },
  {
   "cell_type": "code",
   "execution_count": null,
   "id": "e8f5f2b4",
   "metadata": {},
   "outputs": [],
   "source": []
  }
 ],
 "metadata": {
  "kernelspec": {
   "display_name": "Python 3 (ipykernel)",
   "language": "python",
   "name": "python3"
  },
  "language_info": {
   "codemirror_mode": {
    "name": "ipython",
    "version": 3
   },
   "file_extension": ".py",
   "mimetype": "text/x-python",
   "name": "python",
   "nbconvert_exporter": "python",
   "pygments_lexer": "ipython3",
   "version": "3.9.7"
  }
 },
 "nbformat": 4,
 "nbformat_minor": 5
}
